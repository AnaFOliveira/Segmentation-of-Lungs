{
 "cells": [
  {
   "cell_type": "markdown",
   "metadata": {},
   "source": [
    "# File"
   ]
  },
  {
   "cell_type": "code",
   "execution_count": 1,
   "metadata": {},
   "outputs": [
    {
     "name": "stdout",
     "output_type": "stream",
     "text": [
      "Overwriting automaticSeeding.py\n"
     ]
    }
   ],
   "source": [
    "%%writefile automaticSeeding.py\n",
    "#from read_files import normalization\n",
    "import numpy as np\n",
    "import os\n",
    "import matplotlib.pyplot as plt\n",
    "import scipy.io as spio\n",
    "\n",
    "def find_seed(volume, thresh, lung):\n",
    "\n",
    "    interval = volume.copy()\n",
    "    cols=0\n",
    "    if lung == 'left':\n",
    "        cols = volume.shape[2]*2//3\n",
    "    elif lung == 'right':\n",
    "        cols = volume.shape[2]//3\n",
    "\n",
    "    inicial_slices= volume.shape[0]*2//3\n",
    "    slices=inicial_slices\n",
    "    rows= volume.shape[1]//2\n",
    "    inicial_seed = tuple([slices,rows,cols])\n",
    "    mask_HU = np.zeros(volume.shape)\n",
    "    min_HU = -800 #-850\n",
    "    max_HU = -500#-700\n",
    "\n",
    "    sup = abs(min_HU-thresh)\n",
    "    inf = abs(max_HU+thresh)\n",
    "    mask_HU =np.where((volume >= min_HU) & (volume <= max_HU),volume,False)\n",
    "    #print('min: -'+str(inf))\n",
    "    #print('max: -'+str(sup))\n",
    "    ready = False\n",
    "    second_round= False\n",
    "    i = 0\n",
    "    while ready == False:\n",
    "        value = abs(volume[slices,rows,cols] )\n",
    "        if value >= inf and value <= sup:\n",
    "    \n",
    "            interval[slices,rows,cols]=5000\n",
    "            seed = tuple([slices,rows,cols])\n",
    "            ready = True\n",
    "            #print(\"I found one\")\n",
    "        else: \n",
    "            interval[slices,rows,cols]=5000\n",
    "            slices=slices+1\n",
    "            \n",
    "            if slices>=volume.shape[0]: \n",
    "                #print(\"no seed was found\")\n",
    "                ready = True\n",
    "                seed = [0,0,0]\n",
    "    \n",
    "#     fig = plt.figure()  \n",
    "#     a = fig.add_subplot(1,1,1)\n",
    "#     a.imshow(interval[:,rows,:]) \n",
    "#     plt.show()\n",
    "    \n",
    "    if seed == [0,0,0]:\n",
    "        interval = volume.copy()\n",
    "        slices = inicial_slices\n",
    "        while second_round == False:\n",
    "            #print('superiot to inf'+str(volume[inicial_slices,rows,cols] >= inf))\n",
    "            #print('inferior to sup'+str(volume[inicial_slices,rows,cols] <= sup))\n",
    "            value = abs(volume[slices,rows,cols] )\n",
    "            #print('value'+str(value))\n",
    "            \n",
    "            if value >= inf and value <= sup:\n",
    "                interval[inicial_slices,rows,cols]=5000\n",
    "                seed = tuple([slices,rows,cols])\n",
    "                second_round = True\n",
    "            else: \n",
    "                interval[slices,rows,cols]=5000\n",
    "                slices=slices-1\n",
    "                #cols=cols\n",
    "                if slices<=0:\n",
    "                    print(\"no seed was found\")\n",
    "                    second_round = True\n",
    "                    seed = [0,0,0]\n",
    "    \n",
    "#     fi = plt.figure()  \n",
    "#     b = fi.add_subplot(1,1,1)\n",
    "#     b.imshow(interval[:,rows,:]) \n",
    "#     plt.show()\n",
    "    \n",
    "    new_seed = tuple(seed)\n",
    "    \n",
    "#     fig_1 = plt.figure()  \n",
    "#     fig_1.suptitle(\"Inicial seed\", fontsize=16)\n",
    "#     y = fig_1.add_subplot(1,2,1)\n",
    "#     y.imshow(volume[:,rows,:])\n",
    "#     y.scatter([inicial_seed[2]], [inicial_seed[0]],c='r', s=10)\n",
    "#     x = fig_1.add_subplot(1,2,2)\n",
    "#     x.imshow(mask_HU[:,rows,:])\n",
    "#     x.scatter([inicial_seed[2]], [inicial_seed[0]],c='r',s=10)\n",
    "#     plt.show()\n",
    "    \n",
    "#     fig_2 = plt.figure()  \n",
    "#     fig_2.suptitle(\"Final Seed\", fontsize=16)\n",
    "#     y = fig_2.add_subplot(1,2,1)\n",
    "#     y.imshow(volume[:,rows,:])\n",
    "#     y.scatter([new_seed[2]], [new_seed[0]],c='r', s=10)\n",
    "#     x = fig_2.add_subplot(1,2,2)\n",
    "#     x.imshow(mask_HU[:,rows,:])\n",
    "#     x.scatter([new_seed[2]], [new_seed[0]],c='r',s=10)\n",
    "#     plt.show()\n",
    "\n",
    "    return seed\n"
   ]
  },
  {
   "cell_type": "markdown",
   "metadata": {},
   "source": [
    "# Tests"
   ]
  },
  {
   "cell_type": "code",
   "execution_count": 2,
   "metadata": {},
   "outputs": [],
   "source": [
    "%matplotlib inline"
   ]
  },
  {
   "cell_type": "code",
   "execution_count": null,
   "metadata": {},
   "outputs": [],
   "source": [
    "resized_array = np.load(\"resized_array.npy\")\n",
    "seed = find_seed(resized_array,10,\"right\")\n",
    "print(seed)"
   ]
  },
  {
   "cell_type": "code",
   "execution_count": null,
   "metadata": {},
   "outputs": [],
   "source": [
    "import imutils\n",
    "slices= resized_array.shape[0]//3\n",
    "rows= resized_array.shape[1]//2\n",
    "cols = resized_array.shape[2]//3\n",
    "\n",
    "resized_array[slices]=5000\n",
    "resized_array[:,:,cols]=5000\n",
    "plt.imshow(imutils.rotate(resized_array[:,rows,:],180))"
   ]
  },
  {
   "cell_type": "code",
   "execution_count": 6,
   "metadata": {},
   "outputs": [],
   "source": [
    "from segmentation_functions import resample, grow\n",
    "from automaticSeeding import find_seed\n",
    "from .finding_biggest_lung import arrange_slices, normalization, get_pixels_hu\n",
    "#from read_files import normalization\n",
    "import scipy.ndimage.interpolation as inter\n",
    "import numpy as np\n",
    "import os\n",
    "import matplotlib.pyplot as plt\n",
    "import scipy.io as spio\n",
    "import pydicom\n",
    "import time\n",
    "\n",
    "slices_path = \"G:/CTimages/\"\n",
    "indices_path =\"G:/Plans/CT/Lungs/ok/Separated Lungs\"\n",
    "segmentations_results_path = \"G:/Plans/CT/Lungs/segmentation_results/\"\n",
    "indices_folder= os.listdir(indices_path)\n",
    "\n",
    "patient_id = \"10194022\"#each_mask.split(\" \", each_mask.count(each_mask))[0] \n",
    "slices= arrange_slices(slices_path,patient_id)\n",
    "normalized_volume=normalization(slices)\n",
    "normalized_array = np.array(normalized_volume)\n",
    "volume_resampled, spacing = resample(normalized_array, slices, [5,5,5])\n",
    "seed = find_seed(volume_resampled, 50,\"left\")"
   ]
  },
  {
   "cell_type": "code",
   "execution_count": null,
   "metadata": {},
   "outputs": [],
   "source": []
  }
 ],
 "metadata": {
  "kernelspec": {
   "display_name": "Python 3",
   "language": "python",
   "name": "python3"
  },
  "language_info": {
   "codemirror_mode": {
    "name": "ipython",
    "version": 3
   },
   "file_extension": ".py",
   "mimetype": "text/x-python",
   "name": "python",
   "nbconvert_exporter": "python",
   "pygments_lexer": "ipython3",
   "version": "3.7.0"
  }
 },
 "nbformat": 4,
 "nbformat_minor": 2
}
