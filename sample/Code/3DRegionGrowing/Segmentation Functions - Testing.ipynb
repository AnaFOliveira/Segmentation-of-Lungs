{
 "cells": [
  {
   "cell_type": "code",
   "execution_count": null,
   "metadata": {},
   "outputs": [],
   "source": [
    "%%writefile segmentation_functions.py\n",
    "# check if I can put again the main function - if it makes any sense\n",
    "\n",
    "import numpy as np\n",
    "import time\n",
    "import scipy.ndimage.interpolation as inter\n",
    "import cv2\n",
    "import matplotlib.pyplot as plt\n",
    "from skimage import morphology\n",
    "\n",
    "def resize_mask(mask,img_size):\n",
    "    resized_volume=[]\n",
    "    for plot, each_slice in enumerate(mask):\n",
    "        resized_image,resized_volume=resize_mask_slice(each_slice, img_size,resized_volume)\n",
    "        \n",
    "    volume = np.array(resized_volume)\n",
    "    return volume\n",
    "\n",
    "def resize_mask_slice(image, image_size, resized_volume):\n",
    "    resized_image = cv2.resize(image,(image_size,image_size))\n",
    "    resized_volume.append(resized_image)\n",
    "    return resized_image, resized_volume\n",
    "\n",
    "#__________________________________________________________________________________\n",
    "def get_nbhd(pt, checked, dims):\n",
    "\"\"\"code from Matt Hancock\n",
    "http://notmatthancock.github.io/2017/10/09/region-growing-wrapping-c.html\"\"\"\n",
    "\n",
    "    nbhd = []\n",
    "\n",
    "    if (pt[0] > 0) and not checked[pt[0]-1, pt[1], pt[2]]:\n",
    "        nbhd.append((pt[0]-1, pt[1], pt[2]))\n",
    "    if (pt[1] > 0) and not checked[pt[0], pt[1]-1, pt[2]]:\n",
    "        nbhd.append((pt[0], pt[1]-1, pt[2]))\n",
    "    if (pt[2] > 0) and not checked[pt[0], pt[1], pt[2]-1]:\n",
    "        nbhd.append((pt[0], pt[1], pt[2]-1))\n",
    "\n",
    "    if (pt[0] < dims[0]-1) and not checked[pt[0]+1, pt[1], pt[2]]:\n",
    "        nbhd.append((pt[0]+1, pt[1], pt[2]))\n",
    "    if (pt[1] < dims[1]-1) and not checked[pt[0], pt[1]+1, pt[2]]:\n",
    "        nbhd.append((pt[0], pt[1]+1, pt[2]))\n",
    "    if (pt[2] < dims[2]-1) and not checked[pt[0], pt[1], pt[2]+1]:\n",
    "        nbhd.append((pt[0], pt[1], pt[2]+1))\n",
    "\n",
    "    return nbhd\n",
    "\n",
    "\n",
    "def grow(img, seed, thresh_value, t,seg):\n",
    "    \"\"\"code adapted from Matt Hancock\n",
    "    http://notmatthancock.github.io/2017/10/09/region-growing-wrapping-c.html\n",
    "    \n",
    "    img: ndarray, ndim=3\n",
    "        An image volume.\n",
    "    \n",
    "    seed: tuple, len=3\n",
    "        Region growing starts from this point.\n",
    "\n",
    "    t: int\n",
    "        The image neighborhood radius for the inclusion criteria.\n",
    "        \n",
    "    thresh: int\n",
    "        The difference between the point considered and the segmentated \n",
    "        volume mean, below which we considered the point part of the segmented \n",
    "        volume. If the difference is above the thresh, it's not considered volume\n",
    "    \n",
    "    seg: used when we wish to do segmentation with two seeds\n",
    "    \"\"\"\n",
    "    counter = 0\n",
    "\n",
    "    half_volume = img.shape[1]//2\n",
    "    #seg = np.zeros(img.shape, dtype=np.bool)\n",
    "    checked = np.zeros_like(seg)\n",
    "    max_seeding = 39705+50\n",
    "    min_seeding = #para o 116\n",
    "    seg[seed] = True\n",
    "    checked[seed] = True\n",
    "    needs_check = get_nbhd(seed, checked, img.shape)\n",
    "    \n",
    "    \n",
    "    while len(needs_check) > 0 and counter < max_seeding:\n",
    "        pt = needs_check.pop()\n",
    "\n",
    "        # Its possible that the point was already checked and was\n",
    "        # put in the needs_check stack multiple times.\n",
    "        if checked[pt]: continue\n",
    "\n",
    "        checked[pt] = True\n",
    "\n",
    "        # Handle borders.\n",
    "        imin = max(pt[0]-t, 0)\n",
    "        imax = min(pt[0]+t, img.shape[0]-1)\n",
    "        jmin = max(pt[1]-t, 0)\n",
    "        jmax = min(pt[1]+t, img.shape[1]-1)\n",
    "        kmin = max(pt[2]-t, 0)\n",
    "        kmax = min(pt[2]+t, img.shape[2]-1)\n",
    "\n",
    "        mean_checked = img[seg].mean()\n",
    "        #difference = mean_checked - img[imin:imax+1, jmin:jmax+1, kmin:kmax+1].mean()\n",
    "        #difference = img[pt] - img[imin:imax+1, jmin:jmax+1, kmin:kmax+1].mean()\n",
    "        difference = img[pt] - mean_checked\n",
    "        \n",
    "\n",
    "        \n",
    "        if abs(difference) <= thresh_value:\n",
    "            # Include the voxel in the segmentation and\n",
    "            # add its neighbors to be checked.\n",
    "            \n",
    "            seg[pt] = True\n",
    "            counter = counter +1\n",
    "            needs_check += get_nbhd(pt, checked, img.shape)\n",
    "        if counter > max_seeding:\n",
    "            plt.imshow(seg[:,half_volume,:])\n",
    "            print(\"unvalid segmentation\")\n",
    "    plt.imshow(seg[:,half_volume,:])        \n",
    "    return seg, counter\n",
    "#__________________________________________________________________________________\n",
    "\n",
    "def erode_volume(volume,number):\n",
    "    eroded  = volume[:,:,0]\n",
    "    for i in range(1,volume.shape[2]):\n",
    "        img = volume[:,:,i]\n",
    "        after = morphology.erosion(img,np.ones([number,number]))\n",
    "        eroded = np.dstack((eroded,after))\n",
    "    return np.array(eroded)\n",
    "\n",
    "def dilate_volume(volume, number):\n",
    "    dilated = volume[:,:,0]\n",
    "    for i in range(1,volume.shape[2]):\n",
    "        img = volume[:,:,i]\n",
    "        after = morphology.dilation(img,np.ones([number,number]))\n",
    "        dilated = np.dstack((dilated,after))\n",
    "    return np.array(dilated)\n",
    "\n",
    "def testing_seeds(seed_1, seed_2, volume, slide):\n",
    "    volume[tuple(seed_1)] = 5000 #100,250,190 para o tamanho =512\n",
    "    volume[tuple(seed_2)] = 5000 #100,250,315 para o tamanho =512\n",
    "    plt.imshow(volume[:,slide,:]) #slide 75 para tamanho = 128\n",
    "\n",
    "    \n",
    "def resample(image, scan, new_spacing=[1,1,1]):    \n",
    "    # Determine current pixel spacing\n",
    "    slice_thickness = scan[0].SliceThickness\n",
    "    i = 1\n",
    "    while len(str(slice_thickness))==0:\n",
    "        slice_thickness = scan[i].SliceThickness\n",
    "        print('Im zero')\n",
    "        i=i+1\n",
    "    pixel_spacing_1 = scan[0].PixelSpacing[0]\n",
    "    i = 1\n",
    "    while len(str(pixel_spacing_1))==0:\n",
    "        pixel_spacing_1 = scan[i].PixelSpacing[0]\n",
    "        print('Im zero')\n",
    "        i=i+1\n",
    "    i = 1\n",
    "    pixel_spacing_2 = scan[0].PixelSpacing[1]\n",
    "    while len(str(pixel_spacing_2))==0:\n",
    "        pixel_spacing_2 = scan[i].PixelSpacing[1]\n",
    "        print('Im zero')\n",
    "        i=i+1\n",
    "    \n",
    "    spacing = np.array([slice_thickness,pixel_spacing_1,pixel_spacing_2])\n",
    "    #pacing = np.array([scan[0].SliceThickness,scan[0].PixelSpacing[0],scan[0].PixelSpacing[1]])\n",
    "    #spacing = [scan[0].SliceThickness], np.array(scan[0].PixelSpacing)#, dtype=np.float32)\n",
    "    resize_factor = spacing / new_spacing\n",
    "    new_real_shape = image.shape * resize_factor\n",
    "    new_shape = np.round(new_real_shape)\n",
    "    real_resize_factor = new_shape / image.shape\n",
    "    new_spacing = spacing / real_resize_factor\n",
    "    \n",
    "    image = inter.zoom(image, real_resize_factor, mode='nearest')\n",
    "    \n",
    "    return image, new_spacing\n",
    "\n"
   ]
  },
  {
   "cell_type": "code",
   "execution_count": 10,
   "metadata": {},
   "outputs": [
    {
     "name": "stdout",
     "output_type": "stream",
     "text": [
      "segmax: False\n",
      "Elapsed time: 16.764 seconds.\n"
     ]
    },
    {
     "data": {
      "image/png": "[encoded data removed]",
      "text/plain": [
       "<Figure size 432x288 with 1 Axes>"
      ]
     },
     "metadata": {
      "needs_background": "light"
     },
     "output_type": "display_data"
    }
   ],
   "source": [
    "#%%writefile main_segmentation_functions.py\n",
    "from read_files import read_files, normalization, resize_volume\n",
    "import os\n",
    "import scipy.io as spio\n",
    "from automaticSeeding_method1 import find_seed\n",
    "#from mayavi import mlab\n",
    "\n",
    "\n",
    "\"\"\"\n",
    "## visualization - doesn't work because # Child is launched. Close the parent's copy of those pipe; OSError: [WinError 87] O parâmetro está incorreto\n",
    "\n",
    "import matplotlib.pyplot as plt\n",
    "import matplotlib.animation as manim\n",
    "\n",
    "fig2 = plt.figure(figsize=(3,3))\n",
    "axes  = fig2.add_subplot(111)\n",
    "img = axes.imshow(imutils.rotate(normalized_array[:,:,305],180), vmin=-1, vmax=1,\n",
    "                cmap=plt.cm.gray,\n",
    "                interpolation='bilinear')\n",
    "\n",
    "writer = manim.ImageMagickWriter(fps=3)\n",
    "with writer.saving(fig2, 'patient.gif', 100):\n",
    "       \n",
    "    for i in range(normalized_array.shape[2]):\n",
    "        print(i)\n",
    "        img.set_data(vol[:,:,i])\n",
    "        axes.set_title(\"%02d\" % i)\n",
    "        writer.grab_frame()\n",
    "        \n",
    "\"\"\"\n",
    "\n",
    "\n",
    "def main():\n",
    "\n",
    "    folder_path = 'C:/Data/'\n",
    "    patients_folder= os.listdir(folder_path)#+folder_name)                    \n",
    "    slices,patients = read_files(patients_folder,folder_path)\n",
    "    normalized_volume=normalization(slices)\n",
    "    normalized_array = np.array(normalized_volume)\n",
    "    pix_resampled, spacing = resample(normalized_array, slices, [5,5,5])\n",
    "   \n",
    "    indexes = spio.loadmat('lungs_coordinates - 43181879.mat', squeeze_me=True)[\"indexes\"] \n",
    "\n",
    "    mask = np.zeros(normalized_array.shape)\n",
    "    for s in indexes:\n",
    "        mask[s[0],s[1],s[2]]=1\n",
    "\n",
    "    #resized_mask = resize_mask(mask,img_size)\n",
    "    #reduced_mask = resized_mask[40:127,:,:]\n",
    "\n",
    "    #    return normalized_array, eroded_volume, resized_array,reduced_array, mask, resized_mask\n",
    "\n",
    "\n",
    "    #reduced 50/non-reduced 70\n",
    "    #normalized_array, eroded_volume, resized_array,reduced_array, mask, resized_mask = open_files_default(img_size)\n",
    "\n",
    "    #GROWING\n",
    "    seed_reduced=[75,75,50]#[40,50,35]\n",
    "    seed_reduced_2=[75,75,50]#[50,50,65]\n",
    "\n",
    "    #Paciente 2\n",
    "    #seeds = [seed_reduced_2,seed_reduced]\n",
    "\n",
    "    seed_1 = [40,50,35]\n",
    "    #seed_1 = find_seed(pix_resampled,50,'left') #tupla\n",
    "    #seed_2 = find_seed(pix_resampled,50)\n",
    "    seeds = [seed_1] #lista\n",
    "    start = time.time()\n",
    "    #thresh = 300, vizinhanca = 1\n",
    "    seg = np.zeros(pix_resampled.shape, dtype=np.bool)\n",
    "\n",
    "    size_seeds = len(seeds)\n",
    "\n",
    "    if size_seeds>1:\n",
    "        for i in range(len(seeds)-1):\n",
    "            seg, counter = grow(pix_resampled,seeds[i],275,1,seg) \n",
    "            print('finish:'+str(i))\n",
    "\n",
    "    else:\n",
    "        pre_seed = tuple(seeds[0])\n",
    "        seg, counter = grow(pix_resampled,pre_seed,325,1,seg)\n",
    "    stop = time.time()\n",
    "    plt.imshow(seg[:,50,:])\n",
    "    print(\"Elapsed time: %.3f seconds.\" % (stop - start))\n",
    "\n",
    "    ##OTHER CELL\n",
    "    #!pip install mayavi\n",
    "    #fig, ax = plt.subplots()\n",
    "    #cs = ax.imshow(seg[:,70,:])\n",
    "\n",
    "    #    np.save(\"normalized_array\",normalized_array)\n",
    "    #    #np.save(\"eroded_volume\",eroded_volume)\n",
    "    #    np.save(\"segmented_volume\", seg)\n",
    "    #    np.save(\"3DVolumeSegmented_100_300\",seg)\n",
    "\n",
    "\n",
    "#     for i in range(70):\n",
    "#         fig, ax = plt.subplots()\n",
    "#         cs = ax.imshow(seg[:,i,:])#36\n",
    "#         plt.show()\n",
    "#         print(i)\n",
    "#         time.sleep(1)\n",
    "# \n",
    "    #plt.imshow(resized_array[:,75,:])\n",
    "    #testing_seeds(seed_1=[13,75,50], seed_2=[13,75,75], slide=75,volume=resized_array)\n",
    "\n",
    "\n",
    "\n",
    "if __name__==\"__main__\":\n",
    "    main()"
   ]
  },
  {
   "cell_type": "code",
   "execution_count": 9,
   "metadata": {},
   "outputs": [
    {
     "data": {
      "text/plain": [
       "False"
      ]
     },
     "execution_count": 9,
     "metadata": {},
     "output_type": "execute_result"
    }
   ],
   "source": [
    "\n",
    "folder_path = 'C:/Users/Ana Oliveira/Downloads/Tese/Testes/Dados/'\n",
    "patients_folder= os.listdir(folder_path)#+folder_name)                    \n",
    "slices,patients = read_files(patients_folder,folder_path)\n",
    "normalized_volume=normalization(slices)\n",
    "normalized_array = np.array(normalized_volume)\n",
    "pix_resampled, spacing = resample(normalized_array, slices, [5,5,5])\n",
    "indexes = spio.loadmat('lungs_coordinates - 43181879.mat', squeeze_me=True)[\"indexes\"] \n",
    "\n",
    "mask = np.zeros(normalized_array.shape)\n",
    "for s in indexes:\n",
    "    mask[s[0],s[1],s[2]]=1\n",
    "seed_1 = [40,50,35]\n",
    "seeds = [seed_1] #lista\n",
    "seg = np.zeros(pix_resampled.shape, dtype=np.bool)\n",
    "pre_seed = tuple(seeds[0])\n",
    "seg[pre_seed]\n",
    "#seg, counter = grow(pix_resampled,pre_seed[0],325,1,seg)"
   ]
  },
  {
   "cell_type": "code",
   "execution_count": 14,
   "metadata": {},
   "outputs": [
    {
     "data": {
      "text/plain": [
       "<matplotlib.image.AxesImage at 0x1fa1dc3a240>"
      ]
     },
     "execution_count": 14,
     "metadata": {},
     "output_type": "execute_result"
    },
    {
     "data": {
      "image/png": "[encoded data removed]",
      "text/plain": [
       "<Figure size 432x288 with 1 Axes>"
      ]
     },
     "metadata": {
      "needs_background": "light"
     },
     "output_type": "display_data"
    }
   ],
   "source": [
    "pix_resampled[40,50,35]=5000\n",
    "plt.imshow(pix_resampled[:,50,:])"
   ]
  },
  {
   "cell_type": "code",
   "execution_count": 13,
   "metadata": {},
   "outputs": [
    {
     "data": {
      "text/plain": [
       "(40, 50, 35)"
      ]
     },
     "execution_count": 13,
     "metadata": {},
     "output_type": "execute_result"
    }
   ],
   "source": [
    "pre_seed"
   ]
  },
  {
   "cell_type": "code",
   "execution_count": 24,
   "metadata": {},
   "outputs": [
    {
     "data": {
      "text/plain": [
       "False"
      ]
     },
     "execution_count": 24,
     "metadata": {},
     "output_type": "execute_result"
    }
   ],
   "source": [
    "seg = np.zeros(pix_resampled.shape, dtype=np.bool)\n",
    "np.amin(seg)"
   ]
  },
  {
   "cell_type": "code",
   "execution_count": null,
   "metadata": {},
   "outputs": [],
   "source": []
  }
 ],
 "metadata": {
  "kernelspec": {
   "display_name": "Python 3",
   "language": "python",
   "name": "python3"
  },
  "language_info": {
   "codemirror_mode": {
    "name": "ipython",
    "version": 3
   },
   "file_extension": ".py",
   "mimetype": "text/x-python",
   "name": "python",
   "nbconvert_exporter": "python",
   "pygments_lexer": "ipython3",
   "version": "3.7.0"
  }
 },
 "nbformat": 4,
 "nbformat_minor": 2
}
