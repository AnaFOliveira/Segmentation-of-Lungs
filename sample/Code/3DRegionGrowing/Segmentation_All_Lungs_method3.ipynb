{
 "cells": [
  {
   "cell_type": "code",
   "execution_count": 1,
   "metadata": {},
   "outputs": [],
   "source": [
    "%matplotlib inline"
   ]
  },
  {
   "cell_type": "code",
   "execution_count": null,
   "metadata": {
    "scrolled": true
   },
   "outputs": [],
   "source": [
    "#%%writefile segmentation_3D_thirdversion.py\n",
    "\n",
    "from segmentation_functions import resample,grow\n",
    "from .finding_biggest_lung import arrange_slices, normalization, get_pixels_hu,creating_mask\n",
    "from seed_evaluation import evaluate_seed\n",
    "import scipy.ndimage.interpolation as inter\n",
    "import numpy as np\n",
    "import os\n",
    "import matplotlib.pyplot as plt\n",
    "import scipy.io as spio\n",
    "import pydicom\n",
    "import time\n",
    "\n",
    "slices_path = \"G:/CTimages/\"\n",
    "indices_path =\"G:/Results/Lungs Masks indexes/ok/Separated Lungs\"\n",
    "separation_path = \"G:/Results/Separator/\"\n",
    "segmentations_results_path = \"G:/Plans/CT/Lungs/segmentation_results/third/\"\n",
    "seeds_path = \"G:/CTimages/CT/Images/Seeds/\"\n",
    "indices_folder= os.listdir(indices_path)\n",
    "\n",
    "results = []\n",
    "\n",
    "for num,each_mask in enumerate(indices_folder):\n",
    "\n",
    "    print(num)\n",
    "    #Loading data--------------------------------------------------------------------------------------------------------\n",
    "    opened = spio.loadmat(indices_path+'/'+each_mask, squeeze_me=True)[\"indexes\"]\n",
    "    patient_id = each_mask.split(\" \", each_mask.count(each_mask))[0] \n",
    "    separador = spio.loadmat(separation_path+'/'+patient_id+'_separator', squeeze_me=True)[\"separator\"]\n",
    "    pre_region = each_mask.split(\"_\", each_mask.count(each_mask))[1]\n",
    "    region = pre_region.split(\"_\", pre_region.count(pre_region))[0]\n",
    "    print(\"Patient-id: \"+ str(patient_id))\n",
    "    print(region)\n",
    "    \n",
    "    #Reading the data--------------------------------------------------------------------------------------------------------\n",
    "    slices= arrange_slices(slices_path,patient_id)\n",
    "    normalized_volume=normalization(slices)\n",
    "    normalized_array = np.array(normalized_volume)\n",
    "    \n",
    "    #Separating left and right side------------------------------------------------------------------------------------------\n",
    "    #possible improvement: define non-used side as the minimum of intensity of the volume\n",
    "    volume = np.zeros(normalized_array.shape)\n",
    "    cols = normalized_array.shape[2]\n",
    "    \n",
    "    if region =='left':\n",
    "        volume[:,:,separador:cols] = normalized_array[:,:,separador:cols]\n",
    "    elif region =='right':\n",
    "        volume[:,:,0:separador] = normalized_array[:,:,0:separador]\n",
    "    volume_resampled, spacing = resample(volume, slices, [5,5,5])\n",
    "    \n",
    "\n",
    "    #Seed--------------------------------------------------------------------------------------------------------------------\n",
    "    max_seeding = 39705+50\n",
    "    min_seeding = 3257\n",
    "    seed_1 = spio.loadmat(seeds_path+'/'+patient_id+'_seed1', squeeze_me=True)[\"seed1\"]\n",
    "    seed_2 = spio.loadmat(seeds_path+'/'+patient_id+'_seed2', squeeze_me=True)[\"seed2\"]\n",
    "     \n",
    "    if region=='left':\n",
    "        seeds = [seed_2]\n",
    "    elif region =='right':\n",
    "        seeds = [seed_1]\n",
    "    \n",
    "    mask = creating_mask(seeds,normalized_array)\n",
    "    mask_resampled, spacing = resample(mask, slices, [5,5,5])\n",
    "    j = np.unravel_index(np.argmax(mask_resampled), mask_resampled.shape) #tupla\n",
    "    print('j: '+str(j))\n",
    "    seeds= [j] #lista\n",
    "\n",
    "    interval = volume_resampled.copy()\n",
    "    interval[j]=5000\n",
    "    plt.imshow(interval[:,j[1],:])\n",
    "    plt.show()\n",
    "    \n",
    "    evaluation = evaluate_seed(seeds[0], opened, slices, normalized_array, region, patient_id)\n",
    "    results.append(evaluation)\n",
    "    \n",
    "    \n",
    "    #Segmentation------------------------------------------------------------------------------------------------------------\n",
    "    thresh = 225# tentar 300\n",
    "    vizinhanca = 1\n",
    "    first_seg = np.zeros(volume_resampled.shape, dtype=np.bool)\n",
    "    size_seeds = len(seeds)\n",
    "    counter = max_seeding+50\n",
    "    while counter > max_seeding or counter< min_seeding:\n",
    "        if size_seeds>1:\n",
    "            for i in range(len(seeds)-1):\n",
    "                start = time.time()\n",
    "                seg, counter = grow(volume_resampled,seeds[i],thresh,1,first_seg) \n",
    "                print('finish:'+str(i))\n",
    "                if counter>max_seeding:\n",
    "                    thresh = thresh-10\n",
    "                if counter<min_seeding:\n",
    "                    thresh = thresh+10\n",
    "                else:\n",
    "                    first_seg = seg\n",
    "        else:\n",
    "            print('starting segmentation...')\n",
    "            pre_seed = tuple(seeds[0])\n",
    "            start = time.time()\n",
    "            seg, counter = grow(volume_resampled,pre_seed,thresh,vizinhanca,first_seg)\n",
    "            stop = time.time()\n",
    "            print(thresh)\n",
    "            if counter>max_seeding:\n",
    "                thresh = thresh-10\n",
    "            if counter<min_seeding:\n",
    "                thresh = thresh+10\n",
    "        plt.imshow(seg[:,j[1],:])\n",
    "    plt.show()\n",
    "    \n",
    "    del normalized_array\n",
    "    del volume_resampled\n",
    "    del volume\n",
    "    del slices\n",
    "    print(\"Elapsed time: %.3f seconds.\" % (stop - start))\n",
    "    \n",
    "    name = segmentations_results_path+\"3DVolumeSegmented_\"+str(patient_id)+'_'+str(region)+\"_\"+str(thresh)\n",
    "    np.save(name, seg)\n",
    "    "
   ]
  },
  {
   "cell_type": "markdown",
   "metadata": {},
   "source": [
    "# Specific patient"
   ]
  },
  {
   "cell_type": "code",
   "execution_count": 13,
   "metadata": {},
   "outputs": [
    {
     "name": "stdout",
     "output_type": "stream",
     "text": [
      "right\n",
      "[array([ 90, 255, 197], dtype=uint8)]\n",
      "j: (45, 49, 38)\n"
     ]
    },
    {
     "data": {
      "image/png": "[encoded data removed]",
      "text/plain": [
       "<Figure size 432x288 with 1 Axes>"
      ]
     },
     "metadata": {
      "needs_background": "light"
     },
     "output_type": "display_data"
    },
    {
     "name": "stdout",
     "output_type": "stream",
     "text": [
      "starting segmentation...\n",
      "225\n"
     ]
    },
    {
     "data": {
      "image/png": "[encoded data removed]",
      "text/plain": [
       "<Figure size 432x288 with 1 Axes>"
      ]
     },
     "metadata": {
      "needs_background": "light"
     },
     "output_type": "display_data"
    },
    {
     "data": {
      "image/png": "[encoded data removed]",
      "text/plain": [
       "<Figure size 432x288 with 1 Axes>"
      ]
     },
     "metadata": {
      "needs_background": "light"
     },
     "output_type": "display_data"
    }
   ],
   "source": [
    "\n",
    "from segmentation_functions import resample,grow\n",
    "from .finding_biggest_lung import arrange_slices, normalization, get_pixels_hu,creating_mask\n",
    "from seed_evaluation import evaluate_seed\n",
    "import scipy.ndimage.interpolation as inter\n",
    "import numpy as np\n",
    "import os\n",
    "import matplotlib.pyplot as plt\n",
    "import scipy.io as spio\n",
    "import pydicom\n",
    "import time\n",
    "\n",
    "\n",
    "slices_path = \"G:/CTimages/\"\n",
    "separation_path = \"G:/Results/Separator/\"\n",
    "segmentations_results_path = \"G:/Plans/CT/Lungs/segmentation_results/Iterative/third/\"\n",
    "masks_path = \"G:/Masks/separated/\"\n",
    "seeds_path = \"G:/Results/Seeds/third/\"\n",
    "\n",
    "# Results of seeding method \n",
    "results = []\n",
    "\n",
    "patient_id ='49950151' #each_mask.split(\" \", each_mask.count(each_mask))[0] \n",
    "slices= arrange_slices(slices_path,patient_id)\n",
    "normalized_volume=normalization(slices)\n",
    "normalized_array = np.array(normalized_volume)\n",
    "volume_resampled, spacing = resample(normalized_array, slices, [5,5,5])\n",
    "\n",
    "seed_1 = spio.loadmat(seeds_path+'/'+patient_id+'_seed1', squeeze_me=True)[\"seed1\"]\n",
    "seed_2 = spio.loadmat(seeds_path+'/'+patient_id+'_seed2', squeeze_me=True)[\"seed2\"]\n",
    "#pre_region = each_mask.split(\"_\", each_mask.count(each_mask))[1]\n",
    "#region = pre_region.split(\"_\", pre_region.count(pre_region))[0] \n",
    "region = 'right'\n",
    "print(region)\n",
    "\n",
    "if region=='left':\n",
    "    seeds = [seed_2]\n",
    "elif region =='right':\n",
    "    seeds = [seed_1]\n",
    "\n",
    "print(seeds)\n",
    "mask = creating_mask(seeds,normalized_array)\n",
    "mask_resampled, spacing = resample(mask, slices, [5,5,5])  \n",
    "j = np.unravel_index(np.argmax(mask_resampled), mask_resampled.shape) #tupla\n",
    "print('j: '+str(j))\n",
    "seeds= [j] #lista\n",
    "\n",
    "interval = volume_resampled.copy()\n",
    "interval[j]=5000\n",
    "plt.imshow(interval[:,j[1],:])\n",
    "plt.show()\n",
    "\n",
    "pre_seed = tuple(seeds)\n",
    "max_seeding = 39705+50\n",
    "min_seeding = 3257\n",
    "counter=0\n",
    "thresh = 225\n",
    "size_seeds = len(seeds)\n",
    "#evaluation = evaluate_seed(seeds[0], opened, slices, normalized_array, region, patient_id)\n",
    "first_seg = np.zeros(volume_resampled.shape, dtype=np.bool)\n",
    "\n",
    "while counter > max_seeding or counter< min_seeding:\n",
    "    if size_seeds>1:\n",
    "        for i in range(len(seeds)-1):\n",
    "            start = time.time()\n",
    "            seg, counter = grow(volume_resampled,seeds[i],thresh,1,first_seg) \n",
    "            print('finish:'+str(i))\n",
    "            if counter>max_seeding:\n",
    "                thresh = thresh-10\n",
    "            if counter<min_seeding:\n",
    "                thresh = thresh+10\n",
    "            else:\n",
    "                first_seg = seg\n",
    "    else:\n",
    "        print('starting segmentation...')\n",
    "        pre_seed = tuple(seeds[0])\n",
    "        start = time.time()\n",
    "        seg, counter = grow(volume_resampled,pre_seed,thresh,1,first_seg)\n",
    "        stop = time.time()\n",
    "        print(thresh)\n",
    "        if counter>max_seeding:\n",
    "            thresh = thresh-10\n",
    "        if counter<min_seeding:\n",
    "            thresh = thresh+10\n",
    "        plt.imshow(seg[:,j[1],:])\n",
    "    plt.show()\n",
    "    plt.axis('off')\n",
    "\n",
    "plt.imshow(seg[:,50,:])\n",
    "name = segmentations_results_path+\"3DVolumeSegmented_\"+str(patient_id)+'_'+str(region)+\"_\"+str(thresh)\n",
    "np.save(name, seg)"
   ]
  },
  {
   "cell_type": "code",
   "execution_count": null,
   "metadata": {},
   "outputs": [],
   "source": []
  }
 ],
 "metadata": {
  "kernelspec": {
   "display_name": "Python 3",
   "language": "python",
   "name": "python3"
  },
  "language_info": {
   "codemirror_mode": {
    "name": "ipython",
    "version": 3
   },
   "file_extension": ".py",
   "mimetype": "text/x-python",
   "name": "python",
   "nbconvert_exporter": "python",
   "pygments_lexer": "ipython3",
   "version": "3.7.0"
  }
 },
 "nbformat": 4,
 "nbformat_minor": 2
}
