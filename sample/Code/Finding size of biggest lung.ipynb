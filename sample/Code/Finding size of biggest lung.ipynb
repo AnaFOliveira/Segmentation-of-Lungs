{
 "cells": [
  {
   "cell_type": "code",
   "execution_count": null,
   "metadata": {},
   "outputs": [],
   "source": [
    "%matplotlib inline"
   ]
  },
  {
   "cell_type": "code",
   "execution_count": null,
   "metadata": {},
   "outputs": [],
   "source": [
    "#%%writefile finding_biggest_lung.py\n",
    "\n",
    "from 3DRegionGrowing.segmentation_functions import resample\n",
    "#from read_files import normalization\n",
    "import scipy.ndimage.interpolation as inter\n",
    "import numpy as np\n",
    "import os\n",
    "import matplotlib.pyplot as plt\n",
    "import scipy.io as spio\n",
    "import string\n",
    "import pydicom\n",
    "from imutils import rotate\n",
    "import time\n",
    "import preprocess\n",
    "\n",
    "def counting_mask_size(mask):\n",
    "\n",
    "    #turn_boolean = np.array(mask, dtype=np.bool)\n",
    "    turn_boolean = np.where(mask>0.5, True, False)\n",
    "    #np.where(a < 5, a, 10*a)\n",
    "    number = np.sum(turn_boolean)\n",
    "    return number\n",
    "\n",
    "def main():\n",
    "\n",
    "    slices_path = \"G:/CTimages/\"\n",
    "    indices_path =\"G:/Plans/CT/Lungs/ok/Separated Lungs\"\n",
    "    indices_folder= os.listdir(indices_path)\n",
    "\n",
    "    numero_min_voxels = float('Inf')\n",
    "    numero_max_voxels = 0\n",
    "    i=0\n",
    "    for each_mask in indices_folder[4:5]:\n",
    "        print(i)\n",
    "        opened = spio.loadmat(indices_path+'/'+each_mask, squeeze_me=True)[\"indexes\"]\n",
    "        patient_id = each_mask.split(\" \", each_mask.count(each_mask))[0] \n",
    "        print(patient_id)\n",
    "        slices = preprocess.arrange_slices(slices_path,patient_id)\n",
    "       \n",
    "        normalized_volume=preprocess.normalization(slices)\n",
    "        normalized_array = np.array(normalized_volume)\n",
    "        mask = preprocess.creating_mask(opened,normalized_array)\n",
    "        mask_resampled, spacing = preprocess.resample(mask, slices, [5,5,5])\n",
    "        slide = mask_resampled.shape[1]*2//3 -1\n",
    "        plt.imshow(mask_resampled[:,slide,:])\n",
    "        this_counter = counting_mask_size(mask_resampled)\n",
    "        turn_1 = np.where(mask_resampled>0.5, 1, 0)\n",
    "        number = np.sum(turn_1)\n",
    "        print(\"im counter: \"+str(this_counter))\n",
    "        print(\"im number: \"+str(number))\n",
    "        if this_counter>numero_max_voxels:\n",
    "            numero_max_voxels=this_counter\n",
    "        if this_counter<numero_min_voxels:\n",
    "            numero_min_voxels=this_counter\n",
    "        print('mask size: '+str(this_counter))\n",
    "        print(\"max: \"+str(numero_max_voxels))\n",
    "        print(\"min: \" + str(numero_min_voxels))\n",
    "        i=i+1\n",
    "        del slices\n",
    "        #del mask_resampled\n",
    "        del normalized_array\n",
    "        del normalized_volume\n",
    "        \n",
    "    print(\"max global: \"+str(numero_max_voxels))\n",
    "    print(\"min global: \" + str(numero_min_voxels))\n",
    "\n",
    "    \n",
    "if __name__==\"__main__\":\n",
    "    main()"
   ]
  },
  {
   "cell_type": "code",
   "execution_count": null,
   "metadata": {},
   "outputs": [],
   "source": []
  }
 ],
 "metadata": {
  "kernelspec": {
   "display_name": "Python 3",
   "language": "python",
   "name": "python3"
  },
  "language_info": {
   "codemirror_mode": {
    "name": "ipython",
    "version": 3
   },
   "file_extension": ".py",
   "mimetype": "text/x-python",
   "name": "python",
   "nbconvert_exporter": "python",
   "pygments_lexer": "ipython3",
   "version": "3.7.0"
  }
 },
 "nbformat": 4,
 "nbformat_minor": 2
}
