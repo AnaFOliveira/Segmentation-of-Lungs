{
 "cells": [
  {
   "cell_type": "code",
   "execution_count": 3,
   "metadata": {},
   "outputs": [
    {
     "name": "stdout",
     "output_type": "stream",
     "text": [
      "mean_dice 97.39999999999999\n",
      "mean_general 97.3\n",
      "std_dice 0.7000000000000001\n",
      "std_general 0.8999999999999999\n",
      "median_dice 97.7\n",
      "median_general 97.6\n"
     ]
    }
   ],
   "source": [
    "import csv\n",
    "import numpy as np\n",
    "\n",
    "#Path to results\n",
    "test_path = \"~/results/22teste/3DUnetCNN-master/brats/prediction/\"\n",
    "\n",
    "patients_dice = list()\n",
    "dices_seg = list()\n",
    "dice_background = list() \n",
    "with open(test_path+'ipo_scoresDice coefficient.csv', newline='') as csvfile:\n",
    "    csvReader_dice = csv.reader(csvfile, delimiter=',', quotechar='|')\n",
    "    for row in csvReader_dice:\n",
    "        if row != ['', 'Lungs', 'Background']:\n",
    "            #print(row)\n",
    "            patients_dice.append(row[0])\n",
    "            dices_seg.append(float(row[1]))\n",
    "            dice_background.append(float(row[2]))\n",
    "            \n",
    "            \n",
    "patients_general = list()\n",
    "general_seg = list()\n",
    "genereal_background = list() \n",
    "with open(test_path+'ipo_scoresGeneral Avaliation (Dice, Jac, TruePr, Vs).csv', newline='') as csvfile:\n",
    "    csvReader_dice = csv.reader(csvfile, delimiter=',', quotechar='|')\n",
    "    for row in csvReader_dice:\n",
    "        if row != ['', 'Lungs', 'Background']:\n",
    "            #print(row)\n",
    "            patients_general.append(row[0])\n",
    "            general_seg.append(float(row[1]))\n",
    "            genereal_background.append(float(row[2]))\n",
    "    \n",
    "mean_dice = round(np.mean(np.array(dices_seg)),3)\n",
    "print('mean_dice',mean_dice*100)\n",
    "mean_general = round(np.mean(np.array(general_seg)),3)\n",
    "print('mean_general',mean_general*100)\n",
    "std_dice = round(np.std(np.array(dices_seg)),3)\n",
    "print('std_dice',std_dice*100)\n",
    "std_general = round(np.std(np.array(general_seg)),3)\n",
    "print('std_general',std_general*100)\n",
    "median_dice = round(np.median(np.array(dices_seg)),3)\n",
    "print('median_dice',median_dice*100)\n",
    "median_general = round(np.median(np.array(general_seg)),3)\n",
    "print('median_general',median_general*100)\n"
   ]
  },
  {
   "cell_type": "code",
   "execution_count": null,
   "metadata": {},
   "outputs": [],
   "source": []
  }
 ],
 "metadata": {
  "kernelspec": {
   "display_name": "Python 3",
   "language": "python",
   "name": "python3"
  },
  "language_info": {
   "codemirror_mode": {
    "name": "ipython",
    "version": 3
   },
   "file_extension": ".py",
   "mimetype": "text/x-python",
   "name": "python",
   "nbconvert_exporter": "python",
   "pygments_lexer": "ipython3",
   "version": "3.7.0"
  }
 },
 "nbformat": 4,
 "nbformat_minor": 2
}
